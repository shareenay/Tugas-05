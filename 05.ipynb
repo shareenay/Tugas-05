{
 "cells": [
  {
   "cell_type": "markdown",
   "id": "3e0afce0",
   "metadata": {},
   "source": [
    "## TAMASYA"
   ]
  },
  {
   "cell_type": "code",
   "execution_count": 3,
   "id": "b65f726e",
   "metadata": {},
   "outputs": [
    {
     "name": "stdout",
     "output_type": "stream",
     "text": [
      "jumlah mobil yang dibutuhkan =  2\n",
      "1 mobil penuh dan  1 mobil berisi  2\n"
     ]
    }
   ],
   "source": [
    "orang=int(input(\"masukan berapa orang\"))\n",
    "jumlah_mobil=(orang//7)+1\n",
    "sisa=orang&7\n",
    "print(\"jumlah mobil yang dibutuhkan = \", jumlah_mobil) \n",
    "print(orang//7, \"mobil penuh dan \", \"1 mobil berisi \", orang&7)"
   ]
  },
  {
   "cell_type": "markdown",
   "id": "18f475de",
   "metadata": {},
   "source": [
    "## DISKON"
   ]
  },
  {
   "cell_type": "code",
   "execution_count": 4,
   "id": "d511421f",
   "metadata": {},
   "outputs": [
    {
     "name": "stdout",
     "output_type": "stream",
     "text": [
      "selamat kamu mendapatkan diskon, total belanjaan yang harus kamu bayar = 6500.0\n"
     ]
    }
   ],
   "source": [
    "total=int(input(\"masukan total uang belanjaan =\"))\n",
    "clo=input(\"apakah kamu sedang mengikuti ujian? (yes or no) :\")\n",
    "if clo==\"yes\":\n",
    "    print(\"selamat kamu mendapatkan diskon, total belanjaan yang harus kamu bayar =\", 65/100*total)\n",
    "else :\n",
    "    print(\"total yang harus kamu bayar= \", total)"
   ]
  },
  {
   "cell_type": "markdown",
   "id": "9ea02b85",
   "metadata": {},
   "source": [
    "## KONSONAN"
   ]
  },
  {
   "cell_type": "code",
   "execution_count": 22,
   "id": "e7b8c2b9",
   "metadata": {},
   "outputs": [
    {
     "name": "stdout",
     "output_type": "stream",
     "text": [
      "konsonan\n"
     ]
    }
   ],
   "source": [
    "huruf = input(\"Masukkan satu huruf: \").lower()\n",
    "\n",
    "if huruf <= 'a' and huruf != 'a''i''u''e''o':\n",
    "    print(\"bukan konsonan\")\n",
    "else:\n",
    "    print(\"konsonan\")\n"
   ]
  },
  {
   "cell_type": "markdown",
   "id": "2313c3a6",
   "metadata": {},
   "source": [
    "## TIGA DAN LIMA"
   ]
  },
  {
   "cell_type": "code",
   "execution_count": 26,
   "id": "fdc37d39",
   "metadata": {},
   "outputs": [
    {
     "name": "stdout",
     "output_type": "stream",
     "text": [
      "kelipatan 5\n",
      " \n"
     ]
    }
   ],
   "source": [
    "angka = int(input(\"masukan angka bulat = \"))\n",
    "if angka % 5 == 0:\n",
    "    print(\"kelipatan 5\")\n",
    "if angka % 3 == 0:\n",
    "    print(\"kelipatan 3\")\n",
    "else:\n",
    "    print(\" \")"
   ]
  },
  {
   "cell_type": "markdown",
   "id": "623f9cd5",
   "metadata": {},
   "source": [
    "## LIGA BOLA"
   ]
  },
  {
   "cell_type": "code",
   "execution_count": 45,
   "id": "3539f835",
   "metadata": {},
   "outputs": [
    {
     "name": "stdout",
     "output_type": "stream",
     "text": [
      "8 2\n"
     ]
    }
   ],
   "source": [
    "a = int(input(\"masukan gol pertama: \"))\n",
    "b = int(input(\"masukan gol kedua: \"))\n",
    "c = int(input(\"masukan gol ketiga: \"))\n",
    "d = int(input(\"masukan gol keempat: \"))\n",
    "\n",
    "maks = a\n",
    "if b > maks:\n",
    "    maks = b\n",
    "if c > maks:\n",
    "    maks = c\n",
    "if d > maks:\n",
    "    maks = d\n",
    "\n",
    "min = a\n",
    "if b < min:\n",
    "    min = b\n",
    "if c < min:\n",
    "    min = c\n",
    "if d < min:\n",
    "    min = d\n",
    "\n",
    "\n",
    "print(maks,min)"
   ]
  }
 ],
 "metadata": {
  "kernelspec": {
   "display_name": "Python 3",
   "language": "python",
   "name": "python3"
  },
  "language_info": {
   "codemirror_mode": {
    "name": "ipython",
    "version": 3
   },
   "file_extension": ".py",
   "mimetype": "text/x-python",
   "name": "python",
   "nbconvert_exporter": "python",
   "pygments_lexer": "ipython3",
   "version": "3.13.5"
  }
 },
 "nbformat": 4,
 "nbformat_minor": 5
}
